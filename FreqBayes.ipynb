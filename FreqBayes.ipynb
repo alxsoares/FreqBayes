{
 "metadata": {
  "name": "",
  "signature": "sha256:697824178a397c5c8405c8975a02d138578d9962d13368d42e315a127a7bb4af"
 },
 "nbformat": 3,
 "nbformat_minor": 0,
 "worksheets": [
  {
   "cells": [
    {
     "cell_type": "heading",
     "level": 1,
     "metadata": {},
     "source": [
      "Frequentism and Bayesianism in Practice"
     ]
    },
    {
     "cell_type": "markdown",
     "metadata": {},
     "source": [
      "One of the first things a scientist hears about statistics is that there is are two different approaches: frequentism and Bayesianism. Despite their importance, I've found that even among experienced scientific researchers, many still do not have a good idea of what the differences between these approaches are, and how these differences effect the way calculations are performed. The purpose of this post is to synthesize the philosophical and pragmatic aspects of these two approaches to statistics, so that scientists like myself might be better prepared to understand the types of data analysis people do.\n",
      "\n",
      "I'll start by addressing the philosophical question, and from there move to the pragmatic questions, with some Python scripts demonstrating the difference between the approaches."
     ]
    },
    {
     "cell_type": "heading",
     "level": 2,
     "metadata": {},
     "source": [
      "Frequentists vs. Bayesians: the Philosophical View"
     ]
    },
    {
     "cell_type": "markdown",
     "metadata": {},
     "source": [
      "Fundamentally, the disagreement between frequentists and Bayesians is over the definition of probability.\n",
      "\n",
      "For frequentists, probability only has meaning in terms of **a limiting case of repeated measurements**. That is, if I measure the photon flux $F$ from a given star (we'll assume for now that the star's flux does not vary with time), then measure it again, then again, and so on, each time I will get a slightly different answer due to the statistical error of my measuring device. In the limit of a large number of measurements, the *frequency* of any given value indicates the probability of measuring that value.  For frequentists **probabilities are fundamentally related to frequencies**. This means, for example, that in a strict frequentist view, it is meaningless to talk about the probability of the *true* flux of the star: the true flux is (by definition) a single value, and to talk about a distribution for this value is nonsense.\n",
      "\n",
      "For Bayesians, the concept of probability is extended to cover **degrees of certainty about statements**.  If I measure the flux $F$ of a star with some probability $P(F)$: that probability can certainly be estimated from frequencies in the limit of a large number of repeated experiments, but this is not fundamental.  For Bayesians, **probabilities are fundamentally related to our own knowledge about an event**. This means, for example, that in a Bayesian view, we can meaningfully talk about the probability that the *true* flux of a star lies in a given range.  That probability is related to our degree of certainty based on data.\n",
      "\n",
      "We might sum it up this way (though this is perhaps an over-simplification):\n",
      "\n",
      "- frequentists believe measurements are probabilistic while parameter values are fixed\n",
      "- Bayesians believe that parameter values are probabilistic while measurements are fixed.\n",
      "\n",
      "The surprising thing is that this arguably subtle difference in philosophy leads, in practice, to vastly different approaches to the statistical analysis of data.  Below I will to give a few practical examples of the differences in approach, along with associated Python code to demonstrate the practical aspects of the resulting methods."
     ]
    },
    {
     "cell_type": "heading",
     "level": 2,
     "metadata": {},
     "source": [
      "Comparing Frequentism and Bayesianism: A Simple Problem"
     ]
    },
    {
     "cell_type": "markdown",
     "metadata": {},
     "source": [
      "Here we'll take a look at an extremely simple problem, and compare the frequentist and Bayesian approaches to solving it. There's necessarily a bit of mathematical formalism involved, but I won't go into too much depth or discuss too many of the subtleties. If you want to go deeper, you might consider taking a look at chapters 4-5 of [our textbook](http://www.amazon.com/dp/0691151687/)."
     ]
    },
    {
     "cell_type": "heading",
     "level": 3,
     "metadata": {},
     "source": [
      "The Problem: Simple Photon Counts"
     ]
    },
    {
     "cell_type": "markdown",
     "metadata": {},
     "source": [
      "Imagine that we point our telescope to the sky, and observe the light coming from a single star. For the time being, we'll assume that the star's true flux is constant with time, i.e. that is it has a fixed value $F_{\\rm true}$ (we'll also ignore effects like sky noise and other sources of systematic error). We'll assume that we perform a series of $N$ measurements with our telescope, where the $i^{\\rm th}$ measurement reports the observed photon flux $F_i$ and error $e_i$.\n",
      "\n",
      "The question is, given this set of measurements $D = \\{F_i,e_i\\}$, what is our best estimate of the true flux $F_{\\rm true}$?\n",
      "\n",
      "Here we'll use Python to generate some toy data to demonstrate the two approaches to the problem. Because the measurements are number counts, a Poisson distribution is a good approximation to the measurement process:\n",
      "\n",
      "<small>(Gratuitous aside on measurement errors: We'll make the reasonable assumption that errors are Gaussian. In a Frequentist perspective, $e_i$ is the standard deviation of the results of a single measurement event in the limit of repetitions of *that event*. In the Bayesian perspective, $e_i$ is the standard deviation of the (Gaussian) probability distribution describing our knowledge of that particular measurement given its observed value)</small>"
     ]
    },
    {
     "cell_type": "code",
     "collapsed": false,
     "input": [
      "import numpy as np\n",
      "from scipy import stats\n",
      "np.random.seed(1)  # for repeatability\n",
      "\n",
      "F_true = 1000  # true flux, say number of photons measured in 1 second\n",
      "N = 50 # number of measurements\n",
      "F = stats.poisson(F_true).rvs(N)  # N measurements of the flux\n",
      "e = np.sqrt(F)  # errors on Poisson counts estimated via square root"
     ],
     "language": "python",
     "metadata": {},
     "outputs": [],
     "prompt_number": 10
    },
    {
     "cell_type": "markdown",
     "metadata": {},
     "source": [
      "Now let's make a simple visualization of the \"measured\" data:"
     ]
    },
    {
     "cell_type": "code",
     "collapsed": false,
     "input": [
      "%matplotlib inline\n",
      "import matplotlib.pyplot as plt\n",
      "\n",
      "fig, ax = plt.subplots()\n",
      "ax.errorbar(F, np.arange(N), xerr=e, fmt='ok', ecolor='gray', alpha=0.5)\n",
      "ax.vlines([F_true], 0, N, linewidth=5, alpha=0.2)\n",
      "ax.set_xlabel(\"Flux\");ax.set_ylabel(\"measurement number\");"
     ],
     "language": "python",
     "metadata": {},
     "outputs": [
      {
       "metadata": {},
       "output_type": "display_data",
       "png": "[encoded data removed]",
       "text": [
        "<matplotlib.figure.Figure at 0x107650ed0>"
       ]
      }
     ],
     "prompt_number": 11
    },
    {
     "cell_type": "markdown",
     "metadata": {},
     "source": [
      "These measurements each have a different error $e_i$ which is estimated from [Poisson statistics](http://en.wikipedia.org/wiki/Poisson_distribution) using the standard square-root rule. In this toy example we already know the\n",
      "true flux $F_{\\rm true}$, but the question is this: **given our measurements and errors, what is our best estimate of the true flux?**\n",
      "\n",
      "Let's take a look at the frequentist and Bayesian approaches to solving this."
     ]
    },
    {
     "cell_type": "heading",
     "level": 3,
     "metadata": {},
     "source": [
      "Frequentist Approach to Simple Photon Counts"
     ]
    },
    {
     "cell_type": "markdown",
     "metadata": {},
     "source": [
      "We'll start with the classical frequentist **maximum likelihood** approach. Given a single observation $D_i = (F_i, e_i)$, we can compute the probability distribution of the measurement given the true flux $F_{\\rm true}$, and by our above assumptions the distribution is a simple Gaussian:\n",
      "\n",
      "$$ P(D_i~|~F_{\\rm true}) = \\frac{1}{\\sqrt{2\\pi e_i^2}} \\exp{\\left[\\frac{-(F_i - F_{\\rm true})^2}{2 e_i^2}\\right]} $$\n",
      "\n",
      "This should be read \"the probability of $D_i$ given $F_{\\rm true}$ equals ...\". You should recognize this as a normal distribution with mean $F_{\\rm true}$ and standard deviation $e_i$.\n",
      "\n",
      "We construct the **likelihood function** by multiplying these probabilities together:\n",
      "\n",
      "$$\\mathcal{L}(D~|~F_{\\rm true}) = \\prod_{i=1}^N P(D_i~|~F_{\\rm true})$$\n",
      "\n",
      "Where, again $D = \\{D_i\\}$ represents the entire set of measurements. Because the likelihood's value can become very small, it's often more convenient to instead compute the log-likelihood.  Combining the previous two equations and computing the log, we have\n",
      "\n",
      "$$\\log\\mathcal{L} = -\\frac{1}{2} \\sum_{i=1}^N \\left[ \\log(2\\pi  e_i^2) + \\frac{(F_i - F_{\\rm true})^2}{e_i^2} \\right]$$\n",
      "\n",
      "What we'd like to do is determine $F_{\\rm true}$ such that the likelihood is maximized. For this simple problem, the maximization can be computed analytically (i.e. by setting $d\\log\\mathcal{L}/dF_{\\rm true} = 0$). This results in the following observed estimate of $F_{\\rm true}$:\n",
      "\n",
      "$$ F_{\\rm est} = \\frac{\\sum w_i F_i}{\\sum w_i};~~w_i = 1/e_i^2 $$\n",
      "\n",
      "Notice that in the special case of all errors $e_i$ being equal, this reduces to\n",
      "\n",
      "$$ F_{\\rm est} = \\frac{1}{N}\\sum_{i=1}^N F_i $$\n",
      "\n",
      "That is, $F_{\\rm est}$ is simply the weighted mean of the observed data.\n",
      "\n",
      "We can go further and ask what the error of our estimate is. In the frequentist approach, this is accomplished by fitting a Gaussian approximation to the likelihood curve at maximum; in this simple case this can also be solved analytically. It can be shown that the standard deviation of this Gaussian approximation is:\n",
      "\n",
      "$$ \\sigma_{\\rm est} = \\left(\\sum_{i=1}^N w_i \\right)^{-1/2} $$\n",
      "\n",
      "These results are fairly simple calculations; let's evaluate them for our toy dataset:"
     ]
    },
    {
     "cell_type": "code",
     "collapsed": false,
     "input": [
      "w = 1. / e ** 2\n",
      "print(\"\"\"\n",
      "      F_true = {0}\n",
      "      F_est  = {1:.0f} +/- {2:.0f} (based on {3} measurements)\n",
      "      \"\"\".format(F_true, (w*F).sum()/w.sum(), w.sum()**-0.5, N))"
     ],
     "language": "python",
     "metadata": {},
     "outputs": [
      {
       "output_type": "stream",
       "stream": "stdout",
       "text": [
        "\n",
        "      F_true = 1000\n",
        "      F_est  = 998 +/- 4 (based on 50 measurements)\n",
        "      \n"
       ]
      }
     ],
     "prompt_number": 12
    },
    {
     "cell_type": "markdown",
     "metadata": {},
     "source": [
      "We find that for 50 measurements of the flux, our estimate has an error of about 0.4% and is consistent with the input value."
     ]
    },
    {
     "cell_type": "heading",
     "level": 3,
     "metadata": {},
     "source": [
      "Bayesian Approach to Simple Photon Counts"
     ]
    },
    {
     "cell_type": "markdown",
     "metadata": {},
     "source": [
      "The Bayesian approach, as you might expect, begins and ends with probabilities.  It recognizes that what we fundamentally want to compute is our knowledge of the parameters in question, i.e. in this case,\n",
      "\n",
      "$$ P(F_{\\rm true}~|~D) $$\n",
      "\n",
      "Note that this formulation of the problem is *fundamentally contrary* to the frequentist philosophy, which says that *probabilities have no meaning for model parameters* like $F_{\\rm true}$. Nevertheless, within the Bayesian philosophy this is perfectly acceptable. \n",
      "\n",
      "To compute this result, Bayesians next apply [Bayes' Theorem](http://en.wikipedia.org/wiki/Bayes'_theorem), a fundamental law of probability:\n",
      "\n",
      "$$ P(F_{\\rm true}~|~D) = \\frac{P(D~|~F_{\\rm true})~P(F_{\\rm true})}{P(D)} $$\n",
      "\n",
      "Though Bayes' theorem is where Bayesians get their name, it is not this law itself that is controversial, but the Bayesian *interpretation of probability* implied by the term $P(F_{\\rm true}~|~D)$.\n",
      "\n",
      "Let's take a look at each of the terms in this expression:\n",
      "\n",
      "- $P(F_{\\rm true}~|~D)$: The **posterior**, or the probability of the model parameters given the data: this is the result we want to compute.\n",
      "- $P(D~|~F_{\\rm true})$: The **likelihood**, which is proportional to the $\\mathcal{L}(D~|~F_{\\rm true})$ in the frequentist approach, above.\n",
      "- $P(F_{\\rm true})$: The **model prior**, which encodes what we knew about the model prior to the application of the data $D$.\n",
      "- $P(D)$: The **data probability**, which in practice amounts to simply a normalization term.\n",
      "\n",
      "If we set the prior $P(F_{\\rm true}) \\propto 1$ (a *flat prior*), we find\n",
      "\n",
      "$$P(F_{\\rm true}|D) \\propto \\mathcal{L}(D|F_{\\rm true})$$\n",
      "\n",
      "and the Bayesian probability is maximized at precisely the same value as the frequentist result! So despite the philosophical differences, we see that (for this simple problem at least) the Bayesian and frequentist point estimates are equivalent."
     ]
    },
    {
     "cell_type": "heading",
     "level": 3,
     "metadata": {},
     "source": [
      "But What About the Prior?"
     ]
    },
    {
     "cell_type": "markdown",
     "metadata": {},
     "source": [
      "You'll noticed that I glossed over something here: the prior, $F_{\\rm true}$. The prior allows inclusion of other information into the computation, which becomes very useful in cases where multiple measurement strategies are being combined to constrain a single model (as is the case in, e.g. cosmological parameter estimation). The necessity to specify a prior, however, is one of the more controversial pieces of Bayesian analysis.\n",
      "\n",
      "A frequentist will point out that the prior is problematic when no true prior information is available. Though it might seem straightforward to use a **noninformative prior** like the flat prior mentioned above, there are some [surprisingly subtleties](http://normaldeviate.wordpress.com/2013/07/13/lost-causes-in-statistics-ii-noninformative-priors/comment-page-1/) involved. Frequentists point out that the form of the prior is often a subjective choice, and such subjectivity has no place in statistical data analysis.\n",
      "\n",
      "A Bayesian would counter that frequentism doesn't solve this problem, but simply skirts the question. Frequentism can often be viewed as simply a special case of the Bayesian approach for some (implicit) choice of the prior: a Bayesian would say that it's less subjective to make this implicit choice explicit."
     ]
    },
    {
     "cell_type": "heading",
     "level": 3,
     "metadata": {},
     "source": [
      "Photon Counts: the Bayesian approach"
     ]
    },
    {
     "cell_type": "markdown",
     "metadata": {},
     "source": [
      "Leaving these phiosophical debates aside for the time being, let's address how Bayesian results are generally computed in practice. For a one parameter problem like the one considered here, it's as simple as computing the posterior probability $P(F_{\\rm true}~|~D)$ as a function of $F_{\\rm true}$: this is the distribution reflecting our knowledge of the parameter $F_{\\rm true}$. But as the dimension of the model grows, this direct approach becomes increasingly intractable. For this reason, Bayesian calculatios often use sampling methods such as Markov Chain Monte Carlo (MCMC).\n",
      "\n",
      "I won't go into the details of MCMC here (you can read about this elsewhere). Instead I'll show a practical example of applying an MCMC approach using Dan Foreman-Mackie's excellent [emcee](http://dan.iel.fm/emcee/current/)  package.  Keep in mind here that the goal is to *generate a set of points drawn from the posterior*, and to use those points to determine the answer we seek.\n",
      "\n",
      "To perform this MCMC, we start by defining Python functions for the prior $P(F_{\\rm true})$, the likelihood $P(D~|~F_{\\rm true})$, and the (unnormalized) posterior $P(F_{\\rm true}~|~D)$. Our model here is one-dimensional, but to handle multi-dimensional models we'll define the model in terms of an array of parameters $\\theta$, which in this case is $\\theta = [F_{\\rm true}]$:"
     ]
    },
    {
     "cell_type": "code",
     "collapsed": false,
     "input": [
      "def log_prior(theta):\n",
      "    return 1  # flat prior\n",
      "\n",
      "def log_likelihood(theta, F, e):\n",
      "    return -0.5 * np.sum(np.log(2 * np.pi * e ** 2)\n",
      "                         + (F - theta[0]) ** 2 / e ** 2)\n",
      "\n",
      "def log_posterior(theta, F, e):\n",
      "    return log_prior(theta) + log_likelihood(theta, F, e)"
     ],
     "language": "python",
     "metadata": {},
     "outputs": [],
     "prompt_number": 13
    },
    {
     "cell_type": "markdown",
     "metadata": {},
     "source": [
      "Now we set up the problem, including generating some random starting guesses for the multiple chains of points."
     ]
    },
    {
     "cell_type": "code",
     "collapsed": false,
     "input": [
      "ndim = 1  # number of parameters in the model\n",
      "nwalkers = 50  # number of MCMC walkers\n",
      "nburn = 1000  # \"burn-in\" period to let chains stabilize\n",
      "nsteps = 2000  # number of MCMC steps to take\n",
      "\n",
      "# we'll start at random locations between 0 and 2000\n",
      "starting_guesses = 2000 * np.random.rand(nwalkers, ndim)\n",
      "\n",
      "import emcee\n",
      "sampler = emcee.EnsembleSampler(nwalkers, ndim, log_posterior, args=[F, e])\n",
      "sampler.run_mcmc(starting_guesses, nsteps)\n",
      "\n",
      "sample = sampler.chain  # shape = (nwalkers, nsteps, ndim)\n",
      "sample = sampler.chain[:, nburn:, :].ravel()  # use points after burn-in"
     ],
     "language": "python",
     "metadata": {},
     "outputs": [],
     "prompt_number": 20
    },
    {
     "cell_type": "markdown",
     "metadata": {},
     "source": [
      "If this all worked correctly, the array ``sample`` should contain a series of 50000 points drawn from the posterior. Let's plot them and check:"
     ]
    },
    {
     "cell_type": "code",
     "collapsed": false,
     "input": [
      "# plot a histogram of the sample\n",
      "plt.hist(sample, bins=50, histtype=\"stepfilled\", alpha=0.3, normed=True)\n",
      "\n",
      "# plot a best-fit Gaussian\n",
      "F_fit = np.linspace(975, 1025)\n",
      "pdf = stats.norm(np.mean(sample), np.std(sample)).pdf(F_fit)\n",
      "\n",
      "plt.plot(F_fit, pdf, '-k')\n",
      "plt.xlabel(\"F\"); plt.ylabel(\"P(F)\")"
     ],
     "language": "python",
     "metadata": {},
     "outputs": [
      {
       "metadata": {},
       "output_type": "pyout",
       "prompt_number": 21,
       "text": [
        "<matplotlib.text.Text at 0x107ef5410>"
       ]
      },
      {
       "metadata": {},
       "output_type": "display_data",
       "png": "[encoded data removed]",
       "text": [
        "<matplotlib.figure.Figure at 0x107ef0cd0>"
       ]
      }
     ],
     "prompt_number": 21
    },
    {
     "cell_type": "code",
     "collapsed": false,
     "input": [
      "print(\"\"\"\n",
      "      F_true = {0}\n",
      "      F_est  = {1:.0f} +/- {2:.0f} (based on {3} measurements)\n",
      "      \"\"\".format(F_true, np.mean(sample), np.std(sample), N))"
     ],
     "language": "python",
     "metadata": {},
     "outputs": [
      {
       "output_type": "stream",
       "stream": "stdout",
       "text": [
        "\n",
        "      F_true = 1000\n",
        "      F_est  = 998 +/- 4 (based on 50 measurements)\n",
        "      \n"
       ]
      }
     ],
     "prompt_number": 22
    },
    {
     "cell_type": "markdown",
     "metadata": {},
     "source": [
      "Comparing this to above, we see that as expected, we got the same result as the frequentist approach!"
     ]
    },
    {
     "cell_type": "heading",
     "level": 3,
     "metadata": {},
     "source": [
      "Discussion"
     ]
    },
    {
     "cell_type": "markdown",
     "metadata": {},
     "source": [
      "Now, this Bayesian method might seem a little bit over-complicated, and in this case it certainly is. Using an Affine Invariant Markov Chain Monte Carlo Ensemble sampler to characterize a one-dimensional normal distribution is a bit like using the death star to destroy a beach ball, but I did this here because it's an approach that can scale to complicated posteriors in many, many dimensions, and can provide nice results in more complicated situations where an analytic likelihood approach is not possible.\n",
      "\n",
      "<small>(Side note: You might also have noticed one of the dirty little secrets of Bayesian methods in practice: at the end, we use a frequentist approach to characterize our samples!  When I computed the sample mean and standard deviation, above, I was employing a distinctly frequentist technique to characterize the posterior. Now, in general you can use some non-parametric description of the samples instead, an we'll see that below).</small>"
     ]
    },
    {
     "cell_type": "heading",
     "level": 2,
     "metadata": {},
     "source": [
      "Diving Deeper: Exploring a more sophisticated model"
     ]
    },
    {
     "cell_type": "markdown",
     "metadata": {},
     "source": [
      "Let's briefly take a look at a more complicated situation, and compare the frequentist and Bayesian results yet again.  Above we assumed that the star was static: now let's assume that we're looking at an object which we suspect has some stochastic variation &mdash; that is, it varies with time, but in an unpredictable way (a Quasar is a good example of such an object).\n",
      "\n",
      "We'll propose a simple 2-parameter Gaussian model for this object: $\\theta = [\\mu, \\sigma]$ where $\\mu$ is the mean value, and $\\sigma$ is the standard deviation of the variability *intrinsic to the object*.  Thus our model for the probability of the true flux at the time of each observation looks like this:\n",
      "\n",
      "$$ F_{\\rm true} \\sim \\frac{1}{\\sqrt{2\\pi\\sigma^2}}\\exp\\left[\\frac{-(F - \\mu)^2}{2\\sigma^2}\\right]$$\n",
      "\n",
      "Now, we'll again consider $N$ observations each with their own error. We can generate them this way:"
     ]
    },
    {
     "cell_type": "code",
     "collapsed": false,
     "input": [
      "np.random.seed(42)  # for reproducibility\n",
      "N = 100  # we'll use more samples for the more complicated model\n",
      "mu_true, sigma_true = 1000, 15  # stochastic flux model\n",
      "F_true = stats.norm(mu_true, sigma_true).rvs(N)  # (unknown) true flux\n",
      "F = stats.poisson(F_true).rvs()  # observed flux\n",
      "e = np.sqrt(F)  # root-N error, as above"
     ],
     "language": "python",
     "metadata": {},
     "outputs": [],
     "prompt_number": 319
    },
    {
     "cell_type": "heading",
     "level": 3,
     "metadata": {},
     "source": [
      "Varying Photon Counts: The Frequentist Approach"
     ]
    },
    {
     "cell_type": "markdown",
     "metadata": {},
     "source": [
      "The resulting likelihood is the convolution of the intrinsic distribution with the error distribution, so we have\n",
      "\n",
      "$$\\mathcal{L}(D~|~\\theta) = \\prod_{i=1}^N \\frac{1}{\\sqrt{2\\pi(\\sigma^2 + e_i^2)}}\\exp\\left[\\frac{-(F_i - \\mu)^2}{2(\\sigma^2 + e_i^2)}\\right]$$\n",
      "\n",
      "Analogously to above, we can compute the log likelihood and maximize it to find the best estimate for $\\mu$:\n",
      "\n",
      "$$\\mu_{est} =  \\frac{\\sum w_i F_i}{\\sum w_i};~~w_i = \\frac{1}{\\sigma^2 + e_i^2} $$\n",
      "\n",
      "And here we have a problem: the optimal value of $\\mu$ *depends on* the optimal value of $\\sigma$.  The results are correlated, so we can no longer use straightforward analytic methods to find the frequentist result.\n",
      "\n",
      "Nevertheless, we can use numerical optimization techniques to determine the maximum likelihood value:"
     ]
    },
    {
     "cell_type": "code",
     "collapsed": false,
     "input": [
      "def log_likelihood(theta, F, e):\n",
      "    return -0.5 * np.sum(np.log(2 * np.pi * (theta[1] ** 2 + e ** 2))\n",
      "                         + (F - theta[0]) ** 2 / (theta[1] ** 2 + e ** 2))\n",
      "\n",
      "# maximize likelihood <--> minimize negative likelihood\n",
      "def neg_log_likelihood(theta, F, e):\n",
      "    return -log_likelihood(theta, F, e)\n",
      "\n",
      "from scipy import optimize\n",
      "theta_guess = [900, 5]\n",
      "theta_est = optimize.fmin(neg_log_likelihood, theta_guess, args=(F, e))\n",
      "print(\"\"\"\n",
      "      Maximum likelihood estimate for {0} data points:\n",
      "          mu={theta[0]:.0f}, sigma={theta[1]:.0f}\n",
      "      \"\"\".format(N, theta=theta_est))"
     ],
     "language": "python",
     "metadata": {},
     "outputs": [
      {
       "output_type": "stream",
       "stream": "stdout",
       "text": [
        "Optimization terminated successfully.\n",
        "         Current function value: 502.839505\n",
        "         Iterations: 58\n",
        "         Function evaluations: 114\n",
        "\n",
        "      Maximum likelihood estimate for 100 data points:\n",
        "          mu=999, sigma=19\n",
        "      \n"
       ]
      }
     ],
     "prompt_number": 320
    },
    {
     "cell_type": "markdown",
     "metadata": {},
     "source": [
      "This maximum likelihood value gives our best estimate of the parameters $\\mu$ and $\\sigma$ governing our model of the source.\n",
      "\n",
      "But what about the errors on these best-fit parameters?  There are several approaches to determining errors in a frequentist paradigm.  We could, as above, fit a normal approximation to the maximum likelihood and report the covariance matrix (here we'd have to do this numerically rather than analytically). Alternatively, we can compute statistics like $\\chi^2$ and $\\chi^2_{\\rm dof}$ to and use [standard tests][1] to determine confidence limits, which also depends on strong assumptions about the Gaussianity of the likelihood.  We might also use randomized sampling approaches such as [Jackknife][2] or [Bootstrap][3].\n",
      "\n",
      "Here, for sake of example, we'll use the basic bootstrap resampler found in the [astroML][4] package:\n",
      "\n",
      "[1]: http://en.wikipedia.org/wiki/Pearson%27s_chi-squared_test\n",
      "[2]: http://en.wikipedia.org/wiki/Jackknife_(statistics)\n",
      "[3]: http://en.wikipedia.org/wiki/Bootstrapping_(statistics)\n",
      "[4]: http://astroML.org"
     ]
    },
    {
     "cell_type": "code",
     "collapsed": false,
     "input": [
      "from astroML.resample import bootstrap\n",
      "\n",
      "def fit_samples(sample):\n",
      "    # sample is an array of size [n_bootstraps, n_samples]\n",
      "    return np.array([optimize.fmin(neg_log_likelihood, theta_guess,\n",
      "                                   args=(F, np.sqrt(F)), disp=0)\n",
      "                     for F in sample])\n",
      "\n",
      "samples = bootstrap(F, 1000, fit_samples)  # 1000 resamplings"
     ],
     "language": "python",
     "metadata": {},
     "outputs": [],
     "prompt_number": 321
    },
    {
     "cell_type": "code",
     "collapsed": false,
     "input": [
      "mu_samp = samples[:, 0]\n",
      "sig_samp = abs(samples[:, 1])\n",
      "\n",
      "print \" mu    = {0:.0f} +/- {1:.0f}\".format(mu_samp.mean(), mu_samp.std())\n",
      "print \" sigma = {0:.0f} +/- {1:.0f}\".format(sig_samp.mean(), sig_samp.std())"
     ],
     "language": "python",
     "metadata": {},
     "outputs": [
      {
       "output_type": "stream",
       "stream": "stdout",
       "text": [
        " mu    = 999 +/- 4\n",
        " sigma = 18 +/- 5\n"
       ]
      }
     ],
     "prompt_number": 322
    },
    {
     "cell_type": "markdown",
     "metadata": {},
     "source": [
      "I should note that there is a **huge** literature on the details of bootstrap resampling, and there are definitely some subtleties of the approach that I am glossing over here. One obvious piece is that there is potential for errors to be correlated, which is not reflected in our single errorbar. Nevertheless, this gives the basic idea of the frequentist approach to this problem."
     ]
    },
    {
     "cell_type": "heading",
     "level": 3,
     "metadata": {},
     "source": [
      "Varying Photon Counts: The Bayesian Approach"
     ]
    },
    {
     "cell_type": "markdown",
     "metadata": {},
     "source": [
      "The Bayesian approach to this problem is almost exactly the same as in the case of the previous problem:"
     ]
    },
    {
     "cell_type": "code",
     "collapsed": false,
     "input": [
      "def log_prior(theta):\n",
      "    if theta[1] > 0:\n",
      "        return 0\n",
      "    else:\n",
      "        return -np.inf\n",
      "\n",
      "def log_posterior(theta, F, e):\n",
      "    return log_prior(theta) + log_likelihood(theta, F, e)\n",
      "\n",
      "# same setup as above:\n",
      "ndim, nwalkers = 2, 50\n",
      "nsteps, nburn = 2000, 1000\n",
      "\n",
      "starting_guesses = np.random.rand(nwalkers, ndim)\n",
      "starting_guesses[:, 0] *= 2000\n",
      "starting_guesses[:, 1] *= 20\n",
      "\n",
      "sampler = emcee.EnsembleSampler(nwalkers, ndim, log_posterior, args=[F, e])\n",
      "sampler.run_mcmc(starting_guesses, nsteps)\n",
      "\n",
      "sample = sampler.chain  # shape = (nwalkers, nsteps, ndim)\n",
      "sample = sampler.chain[:, nburn:, :].reshape(-1, 2)"
     ],
     "language": "python",
     "metadata": {},
     "outputs": [],
     "prompt_number": 323
    },
    {
     "cell_type": "markdown",
     "metadata": {},
     "source": [
      "Now that we have the samples, we'll use a convenience routine from astroML to plot the traces and the contours representing one and two standard deviations:"
     ]
    },
    {
     "cell_type": "code",
     "collapsed": false,
     "input": [
      "from astroML.plotting import plot_mcmc\n",
      "fig = plt.figure()\n",
      "ax = plot_mcmc(sample.T, fig=fig, labels=[r'$\\mu$', r'$\\sigma$'], colors='k')\n",
      "ax[0].plot(sample[:, 0], sample[:, 1], ',k', alpha=0.1)\n",
      "ax[0].plot([mu_true], [sigma_true], 'o', color='red', ms=10);"
     ],
     "language": "python",
     "metadata": {},
     "outputs": [
      {
       "metadata": {},
       "output_type": "display_data",
       "png": "[encoded data removed]",
       "text": [
        "<matplotlib.figure.Figure at 0x10fbb8450>"
       ]
      }
     ],
     "prompt_number": 366
    },
    {
     "cell_type": "markdown",
     "metadata": {},
     "source": [
      "The contours indicate one and two standard deviations (68% and 95% confidence levels), and thered dot indicates the ground truth.\n",
      "\n",
      "Note here that $\\sigma = 0$ is consistent with our data within two standard deviations: that is, depending on the threshold you're interested in, our data is not enough to confidently rule out the possibility of a non-varying source!\n",
      "\n",
      "The other thing to notice is that this posterior is definitely *not* Gaussian.  That means that the Gaussian approximation used within the frequentist approach may not reflect valid assumptions about the data.  This isn't an issue with frequentism itself (i.e. there are certainly ways to account for non-Gaussianity within the frequentist paradigm), but the *vast majority* of common frequentist techniques make the explicit  or implicit assumption of Gaussianity of the distribution.  Bayesian approaches generally don't require such assumptions.\n",
      "\n",
      "<small>(Side note on priors: there are good arguments that a flat prior on $\\sigma$ subtley biases the calculation in this case: i.e. a flat prior is not necessarily non-informative in the case of scale factors like $\\sigma$. There are interesting arguments to be made that the [Jeffreys Prior](http://en.wikipedia.org/wiki/Jeffreys_prior) would be more applicable. Here I believe the Jeffreys prior is not suitable, because $\\sigma$ is not a true scale factor (i.e. the Gaussian has contributions from $e_i$ as well). On this question, I'll have to defer to others who have more expertise. Note that subtle &mdash; some would say subjective &mdash; questions like this are among the features of Bayesian analysis that frequentists take issue with).</small>"
     ]
    },
    {
     "cell_type": "heading",
     "level": 2,
     "metadata": {},
     "source": [
      "Higher-dimensional Models"
     ]
    },
    {
     "cell_type": "markdown",
     "metadata": {},
     "source": [
      "One of the advantages of Bayesianism is that its unified probabilistic framework allows for some really interesting approaches to situations that would be very difficult to treat rigorously within a frequentist framework.\n",
      "\n",
      "For example, let's imagine that we have a set of data which contains some outliers: that is, some number of the data points have errors much larger than those recorded by $e_i$.  We'll take the approach of modeling this via nuisance parameters $\\{g_i\\}$ which lie between 0 and 1, and control whether a point is drawn from the \"true\" error distribution or from a separate \"outlier\" distribution. What's more, we will incorporate the detection of these outliers into the model itself!\n",
      "\n",
      "In this setup, the model is now $(2 + N)$-dimensional:\n",
      "\n",
      "$$ \\theta = [\\mu, \\sigma, g_1, g_2, g_3 \\cdots g_N] $$\n",
      "\n",
      "The expression for the likelihood will look like this:\n",
      "\n",
      "$$\\mathcal{L}(D~|~\\theta) = \\prod_{i=1}^N \\left[ \\frac{g_i}{\\sqrt{2\\pi(\\sigma^2 + e_i^2)}}\\exp\\left(\\frac{-(F_i - \\mu)^2}{2(\\sigma^2 + e_i^2)}\\right) + \\frac{1 - g_i}{\\sqrt{2\\pi\\sigma_\\ast^2}}\\exp\\left(\\frac{-(F_i - \\mu)^2}{2\\sigma_\\ast^2}\\right) \\right]$$\n",
      "\n",
      "So if $g_i = 1$, the point is considered \"good\" data, and if $g_i = 0$, the point is considered \"bad\" data drawn from the distribution with width $\\sigma_\\ast \\gg \\sigma$."
     ]
    },
    {
     "cell_type": "code",
     "collapsed": false,
     "input": [
      "np.random.seed(42)  # for reproducibility\n",
      "N = 50\n",
      "mu_true, sigma_true = 1000, 15  # stochastic flux model\n",
      "F_true = stats.norm(mu_true, sigma_true).rvs(N)  # (unknown) true flux\n",
      "F = np.random.normal(F_true, e_true)\n",
      "\n",
      "# Create 10% outliers\n",
      "sigma_star = 500\n",
      "mask = (np.random.random(N) < 0.1)\n",
      "F[mask] += stats.norm(0, sigma_star).rvs(mask.sum())\n",
      "F = np.maximum(F, 0)\n",
      "e = np.sqrt(F)\n",
      "\n",
      "def log_prior(theta):\n",
      "    if np.all(theta[2:] >= 0) and np.all(theta[2:] <= 1):\n",
      "        return 0\n",
      "    else:\n",
      "        return -np.inf\n",
      "    \n",
      "def log_likelihood(theta, F, e, sigma_star):\n",
      "    logP = log_prior(theta)\n",
      "    if np.isneginf(logP):\n",
      "        return logP\n",
      "    g = theta[2:]\n",
      "    logL_1 = (np.log(2 * np.pi * (theta[1] ** 2 + e ** 2))\n",
      "              + (F - theta[0]) ** 2 / (theta[1] ** 2 + e ** 2))\n",
      "    logL_2 = (np.log(2 * np.pi * sigma_star ** 2)\n",
      "              + (F - theta[0]) ** 2 / sigma_star ** 2)\n",
      "    return logP - 0.5 * np.sum(np.logaddexp(logL_1 + np.log(g),\n",
      "                                            logL_2 + np.log(1 - g)))\n",
      "\n",
      "def log_posterior(theta, F, e, sigma_star):\n",
      "    return log_prior(theta) + log_likelihood(theta, F, e, sigma_star)\n",
      "\n",
      "ndim, nwalkers = N + 2, 150\n",
      "nsteps, nburn = 5000, 3000\n",
      "\n",
      "starting_guesses = np.random.rand(nwalkers, ndim)\n",
      "starting_guesses[:, 0] *= 2000\n",
      "starting_guesses[:, 1] *= 20\n",
      "\n",
      "sampler = emcee.EnsembleSampler(nwalkers, ndim, log_posterior,\n",
      "                                args=[F, e, sigma_star])\n",
      "sampler.run_mcmc(starting_guesses, nsteps)\n",
      "sample = sampler.chain  # shape = (nwalkers, nsteps, ndim)\n",
      "sample = sampler.chain[:, nburn:, :].reshape(-1, N + 2)"
     ],
     "language": "python",
     "metadata": {},
     "outputs": [],
     "prompt_number": 406
    },
    {
     "cell_type": "code",
     "collapsed": false,
     "input": [
      "print sample.shape\n",
      "fig = plt.figure()\n",
      "ax = plot_mcmc(sample[:, :2].T, fig=fig, labels=[r'$\\mu$', r'$\\sigma$'], colors='k')\n",
      "ax[0].plot(sample[:, 0], sample[:, 1], ',k', alpha=0.1)\n",
      "ax[0].plot([mu_true], [sigma_true], 'o', color='red', ms=10);"
     ],
     "language": "python",
     "metadata": {},
     "outputs": [
      {
       "output_type": "stream",
       "stream": "stdout",
       "text": [
        "(600000, 52)\n"
       ]
      },
      {
       "metadata": {},
       "output_type": "display_data",
       "png": "[encoded data removed]",
       "text": [
        "<matplotlib.figure.Figure at 0x120c11950>"
       ]
      }
     ],
     "prompt_number": 407
    },
    {
     "cell_type": "code",
     "collapsed": false,
     "input": [
      "plt.plot(e_true, np.mean(sample, 0)[2:], '.k')\n",
      "plt.axis('equal')\n"
     ],
     "language": "python",
     "metadata": {},
     "outputs": [
      {
       "metadata": {},
       "output_type": "pyout",
       "prompt_number": 386,
       "text": [
        "(10.0, 50.0, 24.0, 36.0)"
       ]
      },
      {
       "metadata": {},
       "output_type": "display_data",
       "png": "[encoded data removed]",
       "text": [
        "<matplotlib.figure.Figure at 0x120c6de90>"
       ]
      }
     ],
     "prompt_number": 386
    },
    {
     "cell_type": "code",
     "collapsed": false,
     "input": [],
     "language": "python",
     "metadata": {},
     "outputs": []
    }
   ],
   "metadata": {}
  }
 ]
}