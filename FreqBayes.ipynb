{
 "metadata": {
  "name": "",
  "signature": "sha256:60796a0468b825513e622a63e7db40c8bc0659f99207d25b93b745a55d9e507a"
 },
 "nbformat": 3,
 "nbformat_minor": 0,
 "worksheets": [
  {
   "cells": [
    {
     "cell_type": "heading",
     "level": 1,
     "metadata": {},
     "source": [
      "Frequentism and Bayesianism in Practice"
     ]
    },
    {
     "cell_type": "markdown",
     "metadata": {},
     "source": [
      "One of the first things a scientist hears about statistics is that there is are two different approaches: frequentism and Bayesianism. Despite their importance, I've found that even among experienced scientific researchers, many still do not have a good idea of what the differences between these approaches are, and how these differences effect the way calculations are performed. The purpose of this post is to synthesize the philosophical and pragmatic aspects of these two approaches to statistics, so that scientists like myself might be better prepared to understand the types of data analysis people do.\n",
      "\n",
      "I'll start by addressing the philosophical question, and from there move to the pragmatic questions, with some Python scripts demonstrating the difference between the approaches."
     ]
    },
    {
     "cell_type": "heading",
     "level": 2,
     "metadata": {},
     "source": [
      "Frequentists vs. Bayesians: the Philosophical View"
     ]
    },
    {
     "cell_type": "markdown",
     "metadata": {},
     "source": [
      "Fundamentally, the disagreement between frequentists and Bayesians is over the definition of probability.\n",
      "\n",
      "For frequentists, probability only has meaning in terms of **a limiting case of repeated measurements**. That is, if I measure the photon flux $F$ from a given star (we'll assume for now that the star's flux does not vary with time), then measure it again, then again, and so on, each time I will get a slightly different answer due to the statistical error of my measuring device. In the limit of a large number of measurements, the *frequency* of any given value indicates the probability of measuring that value.  For frequentists **probabilities are fundamentally related to frequencies**. This means, for example, that in a strict frequentist view, it is meaningless to talk about the probability of the *true* flux of the star: the true flux is (by definition) a single value, and to talk about a distribution for this value is nonsense.\n",
      "\n",
      "For Bayesians, the concept of probability is extended to cover **degrees of certainty about statements**.  If I measure the flux $F$ of a star with some probability $P(F)$: that probability can certainly be estimated from frequencies in the limit of a large number of repeated experiments, but this is not fundamental.  For Bayesians, **probabilities are fundamentally related to our own knowledge about an event**. This means, for example, that in a Bayesian view, we can meaningfully talk about the probability that the *true* flux of a star lies in a given range.  That probability is related to our degree of certainty based on data.\n",
      "\n",
      "We might sum it up this way (though this is perhaps an over-simplification):\n",
      "\n",
      "- frequentists believe measurements are probabilistic while parameter values are fixed\n",
      "- Bayesians believe that parameter values are probabilistic while measurements are fixed.\n",
      "\n",
      "The surprising thing is that this arguably subtle difference in philosophy leads, in practice, to vastly different approaches to the statistical analysis of data.  Below I will to give a few practical examples of the differences in approach, along with associated Python code to demonstrate the practical aspects of the resulting methods."
     ]
    },
    {
     "cell_type": "heading",
     "level": 2,
     "metadata": {},
     "source": [
      "Comparing Frequentism and Bayesianism: A Simple Problem"
     ]
    },
    {
     "cell_type": "markdown",
     "metadata": {},
     "source": [
      "Here we'll take a look at an extremely simple problem, and compare the frequentist and Bayesian approaches to solving it. There's necessarily a bit of mathematical formalism involved, but I won't go into too much depth or discuss too many of the subtleties. If you want to go deeper, you might consider taking a look at chapters 4-5 of [our textbook](http://www.amazon.com/dp/0691151687/)."
     ]
    },
    {
     "cell_type": "heading",
     "level": 3,
     "metadata": {},
     "source": [
      "The Problem: Simple Photon Counts"
     ]
    },
    {
     "cell_type": "markdown",
     "metadata": {},
     "source": [
      "Imagine that we point our telescope to the sky, and observe the light coming from a single star. For the time being, we'll assume that the star's true flux is constant with time, i.e. that is it has a fixed value $F_{\\rm true}$ (we'll also ignore effects like sky noise and other sources of systematic error). We'll assume that we perform a series of $N$ measurements with our telescope, where the $i^{\\rm th}$ measurement reports the observed photon flux $F_i$ and error $e_i$.\n",
      "\n",
      "The question is, given this set of measurements $D = \\{F_i,e_i\\}$, what is our best estimate of the true flux $F_{\\rm true}$?\n",
      "\n",
      "Here we'll use Python to generate some toy data to demonstrate the two approaches to the problem. Because the measurements are number counts, a Poisson distribution is a good approximation to the measurement process:\n",
      "\n",
      "<small>(Gratuitous aside on measurement errors: We'll make the reasonable assumption that errors are Gaussian. In a Frequentist perspective, $e_i$ is the standard deviation of the results of a single measurement event in the limit of repetitions of *that event*. In the Bayesian perspective, $e_i$ is the standard deviation of the (Gaussian) probability distribution describing our knowledge of that particular measurement given its observed value)</small>"
     ]
    },
    {
     "cell_type": "code",
     "collapsed": false,
     "input": [
      "import numpy as np\n",
      "from scipy import stats\n",
      "np.random.seed(1)  # for repeatability\n",
      "\n",
      "F_true = 1000  # true flux, say number of photons measured in 1 second\n",
      "N = 50 # number of measurements\n",
      "F = stats.poisson(F_true).rvs(N)  # N measurements of the flux\n",
      "e = np.sqrt(F)  # errors on Poisson counts estimated via square root"
     ],
     "language": "python",
     "metadata": {},
     "outputs": [],
     "prompt_number": 10
    },
    {
     "cell_type": "markdown",
     "metadata": {},
     "source": [
      "Now let's make a simple visualization of the \"measured\" data:"
     ]
    },
    {
     "cell_type": "code",
     "collapsed": false,
     "input": [
      "%matplotlib inline\n",
      "import matplotlib.pyplot as plt\n",
      "\n",
      "fig, ax = plt.subplots()\n",
      "ax.errorbar(F, np.arange(N), xerr=e, fmt='ok', ecolor='gray', alpha=0.5)\n",
      "ax.vlines([F_true], 0, N, linewidth=5, alpha=0.2)\n",
      "ax.set_xlabel(\"Flux\");ax.set_ylabel(\"measurement number\");"
     ],
     "language": "python",
     "metadata": {},
     "outputs": [
      {
       "metadata": {},
       "output_type": "display_data",
       "png": "[encoded data removed]",
       "text": [
        "<matplotlib.figure.Figure at 0x107650ed0>"
       ]
      }
     ],
     "prompt_number": 11
    },
    {
     "cell_type": "markdown",
     "metadata": {},
     "source": [
      "These measurements each have a different error $e_i$ which is estimated from [Poisson statistics](http://en.wikipedia.org/wiki/Poisson_distribution) using the standard square-root rule. In this toy example we already know the\n",
      "true flux $F_{\\rm true}$, but the question is this: **given our measurements and errors, what is our best estimate of the true flux?**\n",
      "\n",
      "Let's take a look at the frequentist and Bayesian approaches to solving this."
     ]
    },
    {
     "cell_type": "heading",
     "level": 3,
     "metadata": {},
     "source": [
      "Frequentist Approach to Simple Photon Counts"
     ]
    },
    {
     "cell_type": "markdown",
     "metadata": {},
     "source": [
      "We'll start with the classical frequentist **maximum likelihood** approach. Given a single observation $D_i = (F_i, e_i)$, we can compute the probability distribution of the measurement given the true flux $F_{\\rm true}$, and by our above assumptions the distribution is a simple Gaussian:\n",
      "\n",
      "$$ P(D_i~|~F_{\\rm true}) = \\frac{1}{\\sqrt{2\\pi e_i^2}} \\exp{\\left[\\frac{-(F_i - F_{\\rm true})^2}{2 e_i^2}\\right]} $$\n",
      "\n",
      "This should be read \"the probability of $D_i$ given $F_{\\rm true}$ equals ...\". You should recognize this as a normal distribution with mean $F_{\\rm true}$ and standard deviation $e_i$.\n",
      "\n",
      "We construct the **likelihood function** by multiplying these probabilities together:\n",
      "\n",
      "$$\\mathcal{L}(D~|~F_{\\rm true}) = \\prod_{i=1}^N P(D_i~|~F_{\\rm true})$$\n",
      "\n",
      "Where, again $D = \\{D_i\\}$ represents the entire set of measurements. Because the likelihood's value can become very small, it's often more convenient to instead compute the log-likelihood.  Combining the previous two equations and computing the log, we have\n",
      "\n",
      "$$\\log\\mathcal{L} = -\\frac{1}{2} \\sum_{i=1}^N \\left[ \\log(2\\pi  e_i^2) + \\frac{(F_i - F_{\\rm true})^2}{e_i^2} \\right]$$\n",
      "\n",
      "What we'd like to do is determine $F_{\\rm true}$ such that the likelihood is maximized. For this simple problem, the maximization can be computed analytically (i.e. by setting $d\\log\\mathcal{L}/dF_{\\rm true} = 0$). This results in the following observed estimate of $F_{\\rm true}$:\n",
      "\n",
      "$$ F_{\\rm est} = \\frac{\\sum w_i F_i}{\\sum w_i};~~w_i = 1/e_i^2 $$\n",
      "\n",
      "Notice that in the special case of all errors $e_i$ being equal, this reduces to\n",
      "\n",
      "$$ F_{\\rm est} = \\frac{1}{N}\\sum_{i=1}^N F_i $$\n",
      "\n",
      "That is, $F_{\\rm est}$ is simply the weighted mean of the observed data.\n",
      "\n",
      "We can go further and ask what the error of our estimate is. In the frequentist approach, this is accomplished by fitting a Gaussian approximation to the likelihood curve at maximum; in this simple case this can also be solved analytically. It can be shown that the standard deviation of this Gaussian approximation is:\n",
      "\n",
      "$$ \\sigma_{\\rm est} = \\left(\\sum_{i=1}^N w_i \\right)^{-1/2} $$\n",
      "\n",
      "These results are fairly simple calculations; let's evaluate them for our toy dataset:"
     ]
    },
    {
     "cell_type": "code",
     "collapsed": false,
     "input": [
      "w = 1. / e ** 2\n",
      "print(\"\"\"\n",
      "      F_true = {0}\n",
      "      F_est  = {1:.0f} +/- {2:.0f} (based on {3} measurements)\n",
      "      \"\"\".format(F_true, (w*F).sum()/w.sum(), w.sum()**-0.5, N))"
     ],
     "language": "python",
     "metadata": {},
     "outputs": [
      {
       "output_type": "stream",
       "stream": "stdout",
       "text": [
        "\n",
        "      F_true = 1000\n",
        "      F_est  = 998 +/- 4 (based on 50 measurements)\n",
        "      \n"
       ]
      }
     ],
     "prompt_number": 12
    },
    {
     "cell_type": "markdown",
     "metadata": {},
     "source": [
      "We find that for 50 measurements of the flux, our estimate has an error of about 0.4% and is consistent with the input value."
     ]
    },
    {
     "cell_type": "heading",
     "level": 3,
     "metadata": {},
     "source": [
      "Bayesian Approach to Simple Photon Counts"
     ]
    },
    {
     "cell_type": "markdown",
     "metadata": {},
     "source": [
      "The Bayesian approach, as you might expect, begins and ends with probabilities.  It recognizes that what we fundamentally want to compute is our knowledge of the parameters in question, i.e. in this case,\n",
      "\n",
      "$$ P(F_{\\rm true}~|~D) $$\n",
      "\n",
      "Note that this formulation of the problem is *fundamentally contrary* to the frequentist philosophy, which says that *probabilities have no meaning for model parameters* like $F_{\\rm true}$. Nevertheless, within the Bayesian philosophy this is perfectly acceptable. \n",
      "\n",
      "To compute this result, Bayesians next apply [Bayes' Theorem](http://en.wikipedia.org/wiki/Bayes'_theorem), a fundamental law of probability:\n",
      "\n",
      "$$ P(F_{\\rm true}~|~D) = \\frac{P(D~|~F_{\\rm true})~P(F_{\\rm true})}{P(D)} $$\n",
      "\n",
      "Though Bayes' theorem is where Bayesians get their name, it is not this law itself that is controversial, but the Bayesian *interpretation of probability* implied by the term $P(F_{\\rm true}~|~D)$.\n",
      "\n",
      "Let's take a look at each of the terms in this expression:\n",
      "\n",
      "- $P(F_{\\rm true}~|~D)$: The **posterior**, or the probability of the model parameters given the data: this is the result we want to compute.\n",
      "- $P(D~|~F_{\\rm true})$: The **likelihood**, which is proportional to the $\\mathcal{L}(D~|~F_{\\rm true})$ in the frequentist approach, above.\n",
      "- $P(F_{\\rm true})$: The **model prior**, which encodes what we knew about the model prior to the application of the data $D$.\n",
      "- $P(D)$: The **data probability**, which in practice amounts to simply a normalization term.\n",
      "\n",
      "If we set the prior $P(F_{\\rm true}) \\propto 1$ (a *flat prior*), we find\n",
      "\n",
      "$$P(F_{\\rm true}|D) \\propto \\mathcal{L}(D|F_{\\rm true})$$\n",
      "\n",
      "and the Bayesian probability is maximized at precisely the same value as the frequentist result! So despite the philosophical differences, we see that (for this simple problem at least) the Bayesian and frequentist point estimates are equivalent."
     ]
    },
    {
     "cell_type": "heading",
     "level": 3,
     "metadata": {},
     "source": [
      "But What About the Prior?"
     ]
    },
    {
     "cell_type": "markdown",
     "metadata": {},
     "source": [
      "You'll noticed that I glossed over something here: the prior, $F_{\\rm true}$. The prior allows inclusion of other information into the computation, which becomes very useful in cases where multiple measurement strategies are being combined to constrain a single model (as is the case in, e.g. cosmological parameter estimation). The necessity to specify a prior, however, is one of the more controversial pieces of Bayesian analysis.\n",
      "\n",
      "A frequentist will point out that the prior is problematic when no true prior information is available. Though it might seem straightforward to use a **noninformative prior** like the flat prior mentioned above, there are some [surprisingly subtleties](http://normaldeviate.wordpress.com/2013/07/13/lost-causes-in-statistics-ii-noninformative-priors/comment-page-1/) involved. Frequentists point out that the form of the prior is often a subjective choice, and such subjectivity has no place in statistical data analysis.\n",
      "\n",
      "A Bayesian would counter that frequentism doesn't solve this problem, but simply skirts the question. Frequentism can often be viewed as simply a special case of the Bayesian approach for some (implicit) choice of the prior: a Bayesian would say that it's less subjective to make this implicit choice explicit."
     ]
    },
    {
     "cell_type": "heading",
     "level": 3,
     "metadata": {},
     "source": [
      "Photon Counts: the Bayesian approach"
     ]
    },
    {
     "cell_type": "markdown",
     "metadata": {},
     "source": [
      "Leaving these phiosophical debates aside for the time being, let's address how Bayesian results are generally computed in practice. For a one parameter problem like the one considered here, it's as simple as computing the posterior probability $P(F_{\\rm true}~|~D)$ as a function of $F_{\\rm true}$: this is the distribution reflecting our knowledge of the parameter $F_{\\rm true}$. But as the dimension of the model grows, this direct approach becomes increasingly intractable. For this reason, Bayesian calculatios often use sampling methods such as Markov Chain Monte Carlo (MCMC).\n",
      "\n",
      "I won't go into the details of MCMC here (you can read about this elsewhere). Instead I'll show a practical example of applying an MCMC approach using Dan Foreman-Mackie's excellent [emcee](http://dan.iel.fm/emcee/current/)  package.  Keep in mind here that the goal is to *generate a set of points drawn from the posterior*, and to use those points to determine the answer we seek.\n",
      "\n",
      "To perform this MCMC, we start by defining Python functions for the prior $P(F_{\\rm true})$, the likelihood $P(D~|~F_{\\rm true})$, and the (unnormalized) posterior $P(F_{\\rm true}~|~D)$. Our model here is one-dimensional, but to handle multi-dimensional models we'll define the model in terms of an array of parameters $\\theta$, which in this case is $\\theta = [F_{\\rm true}]$:"
     ]
    },
    {
     "cell_type": "code",
     "collapsed": false,
     "input": [
      "def log_prior(theta):\n",
      "    return 1  # flat prior\n",
      "\n",
      "def log_likelihood(theta, F, e):\n",
      "    return -0.5 * np.sum(np.log(2 * np.pi * e ** 2)\n",
      "                         + (F - theta[0]) ** 2 / e ** 2)\n",
      "\n",
      "def log_posterior(theta, F, e):\n",
      "    return log_prior(theta) + log_likelihood(theta, F, e)"
     ],
     "language": "python",
     "metadata": {},
     "outputs": [],
     "prompt_number": 13
    },
    {
     "cell_type": "markdown",
     "metadata": {},
     "source": [
      "Now we set up the problem, including generating some random starting guesses for the multiple chains of points."
     ]
    },
    {
     "cell_type": "code",
     "collapsed": false,
     "input": [
      "ndim = 1  # number of parameters in the model\n",
      "nwalkers = 50  # number of MCMC walkers\n",
      "nburn = 1000  # \"burn-in\" period to let chains stabilize\n",
      "nsteps = 2000  # number of MCMC steps to take\n",
      "\n",
      "# we'll start at random locations between 0 and 2000\n",
      "starting_guesses = 2000 * np.random.rand(nwalkers, ndim)\n",
      "\n",
      "import emcee\n",
      "sampler = emcee.EnsembleSampler(nwalkers, ndim, log_posterior, args=[F, e])\n",
      "sampler.run_mcmc(starting_guesses, nsteps)\n",
      "\n",
      "sample = sampler.chain  # shape = (nwalkers, nsteps, ndim)\n",
      "sample = sampler.chain[:, nburn:, :].ravel()  # use points after burn-in"
     ],
     "language": "python",
     "metadata": {},
     "outputs": [],
     "prompt_number": 20
    },
    {
     "cell_type": "markdown",
     "metadata": {},
     "source": [
      "If this all worked correctly, the array ``sample`` should contain a series of 50000 points drawn from the posterior. Let's plot them and check:"
     ]
    },
    {
     "cell_type": "code",
     "collapsed": false,
     "input": [
      "# plot a histogram of the sample\n",
      "plt.hist(sample, bins=50, histtype=\"stepfilled\", alpha=0.3, normed=True)\n",
      "\n",
      "# plot a best-fit Gaussian\n",
      "F_fit = np.linspace(975, 1025)\n",
      "pdf = stats.norm(np.mean(sample), np.std(sample)).pdf(F_fit)\n",
      "\n",
      "plt.plot(F_fit, pdf, '-k')\n",
      "plt.xlabel(\"F\"); plt.ylabel(\"P(F)\")"
     ],
     "language": "python",
     "metadata": {},
     "outputs": [
      {
       "metadata": {},
       "output_type": "pyout",
       "prompt_number": 21,
       "text": [
        "<matplotlib.text.Text at 0x107ef5410>"
       ]
      },
      {
       "metadata": {},
       "output_type": "display_data",
       "png": "[encoded data removed]",
       "text": [
        "<matplotlib.figure.Figure at 0x107ef0cd0>"
       ]
      }
     ],
     "prompt_number": 21
    },
    {
     "cell_type": "code",
     "collapsed": false,
     "input": [
      "print(\"\"\"\n",
      "      F_true = {0}\n",
      "      F_est  = {1:.0f} +/- {2:.0f} (based on {3} measurements)\n",
      "      \"\"\".format(F_true, np.mean(sample), np.std(sample), N))"
     ],
     "language": "python",
     "metadata": {},
     "outputs": [
      {
       "output_type": "stream",
       "stream": "stdout",
       "text": [
        "\n",
        "      F_true = 1000\n",
        "      F_est  = 998 +/- 4 (based on 50 measurements)\n",
        "      \n"
       ]
      }
     ],
     "prompt_number": 22
    },
    {
     "cell_type": "markdown",
     "metadata": {},
     "source": [
      "Comparing this to above, we see that as expected, we got the same result as the frequentist approach!"
     ]
    },
    {
     "cell_type": "heading",
     "level": 3,
     "metadata": {},
     "source": [
      "Discussion"
     ]
    },
    {
     "cell_type": "markdown",
     "metadata": {},
     "source": [
      "Now, this Bayesian method might seem a little bit over-complicated, and in this case it certainly is. Using an Affine Invariant MCMC Ensemble sampler to characterize a one-dimensional normal distribution is a bit like bringing a firehose to a squirt gun fight, but I showed this because it's an approach that can scale to many, many dimensions, and can provide nice results in more complicated situations where an analytic likelihood approach is not possible.\n",
      "\n",
      "<small>(Side note: You might also have noticed one of the dirty little secrets of Bayesian methods in practice: at the end, we use a frequentist approach to characterize our samples!  When I computed the sample mean and standard deviation, above, I was employing a distinctly frequentist technique to characterize the posterior. Now, in general you can use some non-parametric description of the samples instead, an we'll see that below).</small>"
     ]
    },
    {
     "cell_type": "heading",
     "level": 2,
     "metadata": {},
     "source": [
      "Diving Deeper: Exploring a more complicated problem"
     ]
    },
    {
     "cell_type": "code",
     "collapsed": false,
     "input": [],
     "language": "python",
     "metadata": {},
     "outputs": []
    }
   ],
   "metadata": {}
  }
 ]
}