{
 "metadata": {
  "name": "",
  "signature": "sha256:984e090e35a977076dd2cff032251f5aba14300894300cec0997320f84d3330d"
 },
 "nbformat": 3,
 "nbformat_minor": 0,
 "worksheets": [
  {
   "cells": [
    {
     "cell_type": "heading",
     "level": 1,
     "metadata": {},
     "source": [
      "Frequentism and Bayesianism in Practice"
     ]
    },
    {
     "cell_type": "markdown",
     "metadata": {},
     "source": [
      "One of the first things a young scientist will hear about statistics is that there is are two different approaches: frequentism and Bayesianism. Despite their importance, I've found that even among experienced scientific researchers, many still do not have a good idea of what the differences between these approaches are, and how these differences effect the way calculations are performed. The purpose of this post is to synthesize the philosophical and pragmatic aspects of these two approaches to statistics, so that scientists like myself might be better prepared to understand the types of data analysis people do.\n",
      "\n",
      "I'll start by addressing the philosophical question, and from there move to the pragmatic questions, with some Python scripts demonstrating the difference between the approaches."
     ]
    },
    {
     "cell_type": "heading",
     "level": 2,
     "metadata": {},
     "source": [
      "Frequentists vs. Bayesians: the Philosophical View"
     ]
    },
    {
     "cell_type": "markdown",
     "metadata": {},
     "source": [
      "Fundamentally, the disagreement between frequentists and Bayesians is over the definition of probability.\n",
      "\n",
      "For frequentists, probability only has meaning in terms of **a limiting case of repeated measurements**. That is, if I measure the photon flux $F$ from a given star (we'll assume for now that the star's flux does not vary with time), then measure it again, then again, and so on, each time I will get a slightly different answer due to the statistical error of my measuring device. In the limit of a large number of measurements, the *frequency* of any given value indicates the probability of measuring that value.  For frequentists **probabilities are fundamentally related to frequencies**. This means, for example, that in a strict frequentist view, it is meaningless to talk about the probability of the *true* flux of the star: the true flux is (by definition) a single value, and to talk about a distribution for this value is nonsense.\n",
      "\n",
      "For Bayesians, the concept of probability is extended to cover **degrees of certainty about statements**.  If I measure the flux $F$ of a star with some probability $P(F)$: that probability can certainly be estimated from frequencies in the limit of a large number of repeated experiments, but this is not fundamental.  For Bayesians, **probabilities are fundamentally related to our own knowledge about an event**. This means, for example, that in a Bayesian view, we can meaningfully talk about the probability that the *true* flux of a star lies in a given range.  That probability is related to our degree of certainty based on data.\n",
      "\n",
      "We might sum it up this way (though this is perhaps an over-simplification): frequentists believe measurements are probabilistic while parameter values are fixed; Bayesians believe that parameters are probabilistic while measurements are fixed.\n",
      "\n",
      "The surprising thing is that this arguably subtle difference in philosophy leads, in practice, to vastly different approaches to the statistical analysis of data.  Below I want to give a few examples of this, with associated Python code to demonstrate the practical aspects of the resulting methods."
     ]
    },
    {
     "cell_type": "heading",
     "level": 2,
     "metadata": {},
     "source": [
      "Comparing Frequentism and Bayesianism: A Simple Problem"
     ]
    },
    {
     "cell_type": "markdown",
     "metadata": {},
     "source": [
      "Here we'll take a look at an extremely simple problem, and compare the frequentist and Bayesian approaches to solving it. There's necessarily a bit of math involved, but I won't go into too much depth or discuss too many of the subtleties."
     ]
    },
    {
     "cell_type": "heading",
     "level": 3,
     "metadata": {},
     "source": [
      "The Problem: Simple Photon Counts"
     ]
    },
    {
     "cell_type": "markdown",
     "metadata": {},
     "source": [
      "Imagine that we point our telescope to the sky, and observe the light coming from a star. For the time being, we'll assume that the star's true flux is constant with time, that is it has a fixed value $F_{\\rm true}$. We perform a series of $N$ measurements with different telescopes and measure the photon flux $F_i$ with error $e_i$, where $i$ indexes the measurement.\n",
      "\n",
      "The question is, given these measurements $D = \\{F_i,e_i\\}$, what is our best estimate of the true flux $F_{\\rm true}$?\n",
      "Here we'll use Python to generate some toy measurements that we'll be able to work with. Because the measurements are number counts, a Poisson distribution is a good approximation to the measurement process:\n",
      "\n",
      "<small>(Gratuitous aside on measurement errors: We'll make the reasonable assumption that errors are Gaussian. In a Frequentist perspective, $e_i$ is the standard deviation of the results of a single measurement event in the limit of repetitions of *that event*. In the Bayesian perspective, $e_i$ is the standard deviation of the (Gaussian) probability distribution describing our knowledge of that particular measurement given its observed value)</small>"
     ]
    },
    {
     "cell_type": "code",
     "collapsed": false,
     "input": [
      "import numpy as np\n",
      "from scipy.stats import poisson\n",
      "\n",
      "F_true = 1000  # true flux, say number of photons measured in 1 second\n",
      "N = 50 # number of measurements\n",
      "np.random.seed(1)  # for repeatability\n",
      "F = poisson(F_true).rvs(N)\n",
      "e = np.sqrt(F)  # errors on Poisson counts estimated via square root"
     ],
     "language": "python",
     "metadata": {},
     "outputs": [],
     "prompt_number": 90
    },
    {
     "cell_type": "markdown",
     "metadata": {},
     "source": [
      "Now let's make a simple visualization of the \"measured\" data:"
     ]
    },
    {
     "cell_type": "code",
     "collapsed": false,
     "input": [
      "%matplotlib inline\n",
      "import matplotlib.pyplot as plt\n",
      "#import mpld3; mpld3.enable_notebook()  # use d3 plots\n",
      "\n",
      "fig, ax = plt.subplots()\n",
      "ax.errorbar(F, np.arange(N), xerr=e, fmt='ok', ecolor='gray', alpha=0.5)\n",
      "ax.vlines([F_true], 0, N, linewidth=5, alpha=0.2)\n",
      "ax.set_xlabel(\"Flux\");ax.set_ylabel(\"measurement number\");"
     ],
     "language": "python",
     "metadata": {},
     "outputs": [
      {
       "metadata": {},
       "output_type": "display_data",
       "png": "[encoded data removed]",
       "text": [
        "<matplotlib.figure.Figure at 0x107fbb9d0>"
       ]
      }
     ],
     "prompt_number": 91
    },
    {
     "cell_type": "markdown",
     "metadata": {},
     "source": [
      "These measurements each have a different error $e_i$ which is estimated from [Poisson statistics](http://en.wikipedia.org/wiki/Poisson_distribution) using the standard square-root rule. In this toy example we already know the\n",
      "true flux $F_{\\rm true}$, but the question is this: **given our measurements and errors, what is our best estimate of the true flux?**\n",
      "\n",
      "Let's take a look at the frequentist and Bayesian approaches to solving this."
     ]
    },
    {
     "cell_type": "heading",
     "level": 3,
     "metadata": {},
     "source": [
      "Frequentist Approach to Toy Problem #1"
     ]
    },
    {
     "cell_type": "markdown",
     "metadata": {},
     "source": [
      "We'll start with the classical frequentist **maximum likelihood** approach. Given a single observation $(F_i, e_i)$, we can compute the probability distribution of the measurement given the true flux $F_{\\rm true}$, and by our above assumptions the distribution is a simple Gaussian:\n",
      "\n",
      "$$ P(F_i, e_i~|~F_{\\rm true}) = \\frac{1}{\\sqrt{2\\pi e_i^2}} \\exp{\\left[\\frac{-(F_i - F_{\\rm true})^2}{2 e_i^2}\\right]} $$\n",
      "\n",
      "This should be read \"the probability of $F_i$ and $e_i$ given $F_{\\rm true}$ equals ...\". You should recognize this as a normal distribution with mean $F$ and standard deviation $e_i$.\n",
      "\n",
      "From these individual data probabilities, we construct the **likelihood function**,\n",
      "\n",
      "$$\\mathcal{L}(F_{\\rm true}~|~D) = \\prod_{i=1}^N P(F_i,e_i~|~F_{\\rm true})$$\n",
      "\n",
      "Where, again $D = \\{F_i,e_i\\}$ represents the entire set of measurements. Because the likelihood's value can become very small, it's often more convenient to instead compute the log-likelihood.  Combining the previous two equations and computing the log, we have\n",
      "\n",
      "$$\\log\\mathcal{L} = -\\frac{1}{2} \\sum_{i=1}^N \\left[ 2\\pi  e_i^2 + \\frac{(F_i - F_{\\rm true})^2}{e_i^2} \\right]$$\n",
      "\n",
      "All that is left here is to maximize the likelihood. For this situation, we can do this maximization analytically (e.g. by setting $d\\log\\mathcal{L}/dF_{\\rm true} = 0$) to find the following observed estimate of $F_{\\rm true}$:\n",
      "\n",
      "$$ F_{\\rm est} = \\frac{\\sum w_i F_i}{\\sum w_i};~~w_i = 1/e_i^2 $$\n",
      "\n",
      "Notice that in the special case of all errors $e_i$ being equal, this reduces to\n",
      "\n",
      "$$ F_{\\rm est} = \\frac{1}{N}\\sum_{i=1}^N F_i $$\n",
      "\n",
      "That is, $F_{\\rm est}$ is simply the weighted mean of the observed data.\n",
      "\n",
      "We can go further and ask what the error of our estimate is. In the frequentist approach, this is accomplished by fitting a Gaussian approximation to the likelihood curve at maximum; in this simple case this can also be solved analytically. It can be shown that the standard deviation of this Gaussian approximation is:\n",
      "\n",
      "$$ \\sigma_{\\rm est} = \\left(\\sum_{i=1}^N w_i \\right)^{-1/2} $$\n",
      "\n",
      "These results are fairly simple calculations; let's evaluate them for our toy dataset:"
     ]
    },
    {
     "cell_type": "code",
     "collapsed": false,
     "input": [
      "w = 1. / e ** 2\n",
      "F_est = (w * F).sum() / w.sum()\n",
      "sigma_est = (w.sum()) ** -0.5\n",
      "\n",
      "print(\"-----------------------------------\")\n",
      "print(\"  F_true = {0}\".format(F_true))\n",
      "print(\"  F_est  = {0:.1f} +/- {1:.1f}\".format(F_est, sigma_est))\n",
      "print(\"           based on {0} measurements\".format(N))\n",
      "print(\"------------------------------------\")"
     ],
     "language": "python",
     "metadata": {},
     "outputs": [
      {
       "output_type": "stream",
       "stream": "stdout",
       "text": [
        "-----------------------------------\n",
        "  F_true = 1000\n",
        "  F_est  = 997.7 +/- 4.5\n",
        "           based on 50 measurements\n",
        "------------------------------------\n"
       ]
      }
     ],
     "prompt_number": 101
    },
    {
     "cell_type": "markdown",
     "metadata": {},
     "source": [
      "We find that for 50 measurements of the flux, our estimate is within one standard deviation of the true value."
     ]
    },
    {
     "cell_type": "heading",
     "level": 3,
     "metadata": {},
     "source": [
      "Bayesian Approach to Toy Problem #1"
     ]
    },
    {
     "cell_type": "markdown",
     "metadata": {},
     "source": [
      "Bayes' Theorem:\n",
      "\n",
      "$$P(\\mu|D) = \\frac{P(D|\\mu)P(\\mu)}{P(D)}$$\n",
      "\n",
      "Meaning:\n",
      "\n",
      "- $P(\\mu|D)$: The \"posterior\", or the probability of the model parameters given the data.\n",
      "- $P(D|\\mu)$: The \"likelihood\", which is proportional to the $L(D|\\mu)$ in the frequentist approach, above.\n",
      "- $P(\\mu)$: The \"prior\", which encodes what we knew about the model before gathering the new data.\n",
      "- $P(D)$: The \"data probability\", which generally is treated as a simple normalization term.\n",
      "\n",
      "If we set the prior $P(\\mu) \\propto 1$ (a \"flat prior\"), we get\n",
      "\n",
      "$$P(\\mu|D) \\propto L(D|\\mu)$$\n",
      "\n",
      "and the posterior is equivalent to the frequentist likelihood."
     ]
    },
    {
     "cell_type": "markdown",
     "metadata": {},
     "source": []
    },
    {
     "cell_type": "markdown",
     "metadata": {},
     "source": [
      "Series of measurements:\n",
      "\n",
      "$${\\bf x} = [x_1, x_2, x_3 \\cdots x_N]$$"
     ]
    },
    {
     "cell_type": "heading",
     "level": 2,
     "metadata": {},
     "source": [
      "Frequentist Approach"
     ]
    },
    {
     "cell_type": "markdown",
     "metadata": {},
     "source": [
      "Likelihood of a given evaluation (assuming a Gaussian likelihood)\n",
      "\n",
      "$$P(x_i|\\mu) \\propto \\exp[-(\\mu - x_i)^2]$$\n",
      "\n",
      "Likelihood function:\n",
      "\n",
      "$$L({\\bf x}|\\mu, \\sigma) \\propto \\prod_{i=1}^N P(x_i|\\mu,\\sigma)$$\n",
      "\n",
      "Log-likelihood:\n",
      "\n",
      "$$\\log L = const - \\sum_{i-1}^N (\\mu - x_i)^2$$\n",
      "\n",
      "Maximization of log-likelihood:\n",
      "\n",
      "$$\\frac{d}{d\\mu} \\log L = 0$$\n",
      "$$\\mu = \\frac{1}{N}\\sum_{i=1}^{N} x_i$$"
     ]
    },
    {
     "cell_type": "heading",
     "level": 2,
     "metadata": {},
     "source": [
      "Bayesian Approach"
     ]
    },
    {
     "cell_type": "heading",
     "level": 2,
     "metadata": {},
     "source": [
      "Code to draw figures"
     ]
    },
    {
     "cell_type": "code",
     "collapsed": false,
     "input": [
      "%matplotlib inline\n",
      "import numpy as np\n",
      "from scipy.stats import norm\n",
      "import matplotlib.pyplot as plt\n",
      "\n",
      "def plot_gaussian_likelihood():\n",
      "    x = np.linspace(-5, 5, 100)\n",
      "    y = norm(0, 1).pdf(x)\n",
      "    fig, ax = plt.subplots()\n",
      "    ax.fill(x, y, edgecolor='k', facecolor='gray', alpha=0.4)\n",
      "    ax.set_xlabel(\"$x$\")\n",
      "    ax.set_ylabel(\"$L(x)$\")\n",
      "    ax.set_ylim(0, 0.5)"
     ],
     "language": "python",
     "metadata": {},
     "outputs": [],
     "prompt_number": 7
    },
    {
     "cell_type": "code",
     "collapsed": false,
     "input": [],
     "language": "python",
     "metadata": {},
     "outputs": []
    }
   ],
   "metadata": {}
  }
 ]
}